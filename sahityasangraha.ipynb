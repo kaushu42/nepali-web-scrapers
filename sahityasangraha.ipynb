{
 "cells": [
  {
   "cell_type": "code",
   "execution_count": null,
   "metadata": {},
   "outputs": [],
   "source": [
    "from tqdm import tqdm\n",
    "import utils"
   ]
  },
  {
   "cell_type": "code",
   "execution_count": null,
   "metadata": {},
   "outputs": [],
   "source": [
    "BASE_URL = 'http://sahityasangraha.com/tag/नेपाली-कथा/page/'"
   ]
  },
  {
   "cell_type": "code",
   "execution_count": null,
   "metadata": {},
   "outputs": [],
   "source": [
    "files = 1\n",
    "for page in range(31, 96):\n",
    "    try:\n",
    "        url = f'{BASE_URL}{page}'\n",
    "        print(f'Page: {page}')\n",
    "        soup = utils.get_page_soup(url)\n",
    "        for div in tqdm(divs):\n",
    "            try:\n",
    "                article_url = div.a['href']\n",
    "                article_soup = utils.get_page_soup(article_url)\n",
    "                text = article_soup.find('div', {'class': 'entry-content'}).text\n",
    "                lines = ' '.join(utils.clean(text).split('\\n')[6:]).split('।')\n",
    "                with open(f'sahityasangraha/{files}.txt', 'w') as f:\n",
    "                    for line in lines:\n",
    "                        f.write(f'{line}\\n')\n",
    "                    files += 1\n",
    "            except Exception as e:\n",
    "                print(f'=== ERROR {e} ===')\n",
    "    except Exception as e:\n",
    "        print(f'=== ERROR {e} ===')"
   ]
  }
 ],
 "metadata": {
  "kernelspec": {
   "display_name": "Python 3",
   "language": "python",
   "name": "python3"
  },
  "language_info": {
   "codemirror_mode": {
    "name": "ipython",
    "version": 3
   },
   "file_extension": ".py",
   "mimetype": "text/x-python",
   "name": "python",
   "nbconvert_exporter": "python",
   "pygments_lexer": "ipython3",
   "version": "3.6.7"
  }
 },
 "nbformat": 4,
 "nbformat_minor": 2
}
