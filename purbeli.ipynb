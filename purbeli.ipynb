{
 "cells": [
  {
   "cell_type": "code",
   "execution_count": null,
   "metadata": {},
   "outputs": [],
   "source": [
    "import os\n",
    "import pickle\n",
    "import utils\n",
    "from tqdm import tqdm_notebook as tqdm"
   ]
  },
  {
   "cell_type": "code",
   "execution_count": null,
   "metadata": {},
   "outputs": [],
   "source": [
    "categories = [\n",
    "    ('अन्तराष्ट्रिय', 338),\n",
    "    ('pradesh-category/1', 369),\n",
    "    ('pradesh-category/2', 121),\n",
    "    ('pradesh-category/3', 188),\n",
    "    ('pradesh-category/4', 98),\n",
    "    ('pradesh-category/5', 77),\n",
    "    ('pradesh-category/6', 50),\n",
    "    ('pradesh-category/7', 82),\n",
    "    ('खेलकुद', 179),\n",
    "    \n",
    "]"
   ]
  },
  {
   "cell_type": "code",
   "execution_count": null,
   "metadata": {},
   "outputs": [],
   "source": [
    "for category, n_pages in categories:\n",
    "    BASE_URL = f\"http://purbelinews.com/{category}/page/\"\n",
    "    print(category.upper())\n",
    "    for page in range(1, n_pages):\n",
    "        try:\n",
    "            url = f\"{BASE_URL}{page}\"\n",
    "            soup = utils.get_page_soup(url)\n",
    "            articles = soup.find_all('h2', {'class': 'entry-title'})\n",
    "            titles = ''\n",
    "            texts = ''\n",
    "            for article in tqdm(articles):\n",
    "                article_url = article.a['href']\n",
    "                article_soup = utils.get_page_soup(article_url)\n",
    "                titles += article_soup.find('h1').text + '\\n'\n",
    "                texts += utils.clean(article_soup.find('div', {'class': 'entry-content'}).text) + '<EOS>'\n",
    "\n",
    "            with open(f'purbeli/news-{category}-{page}.txt', 'w') as f:\n",
    "                f.write(texts)\n",
    "            with open(f'purbeli/titles-{category}-{page}.txt', 'w') as f:\n",
    "                f.write(titles)\n",
    "        except Exception as e:\n",
    "            print(f'===ERROR: {e}===')"
   ]
  }
 ],
 "metadata": {
  "kernelspec": {
   "display_name": "Python 3",
   "language": "python",
   "name": "python3"
  },
  "language_info": {
   "codemirror_mode": {
    "name": "ipython",
    "version": 3
   },
   "file_extension": ".py",
   "mimetype": "text/x-python",
   "name": "python",
   "nbconvert_exporter": "python",
   "pygments_lexer": "ipython3",
   "version": "3.6.7"
  }
 },
 "nbformat": 4,
 "nbformat_minor": 2
}
