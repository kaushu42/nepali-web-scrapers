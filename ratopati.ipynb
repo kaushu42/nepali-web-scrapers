{
 "cells": [
  {
   "cell_type": "code",
   "execution_count": null,
   "metadata": {},
   "outputs": [],
   "source": [
    "import os\n",
    "import pickle\n",
    "import utils\n",
    "from tqdm import tqdm_notebook as tqdm"
   ]
  },
  {
   "cell_type": "code",
   "execution_count": null,
   "metadata": {},
   "outputs": [],
   "source": [
    "BASE_URL = 'https://ratopati.com/category/crime?page='"
   ]
  },
  {
   "cell_type": "code",
   "execution_count": null,
   "metadata": {},
   "outputs": [],
   "source": [
    "categories = [\n",
    "    ('crime', 17)\n",
    "    ('corporate', 169),\n",
    "    ('new-in-market', 22),\n",
    "    ('sports', 162),\n",
    "    ('international', 240),\n",
    "    ('literature', 47),\n",
    "    ('newspaper', 587)\n",
    "]"
   ]
  },
  {
   "cell_type": "code",
   "execution_count": null,
   "metadata": {},
   "outputs": [],
   "source": [
    "for category, n_pages in categories:\n",
    "    BASE_URL = f'https://ratopati.com/category/{category}?page='\n",
    "    for page in tqdm(range(1, n_pages)):\n",
    "        try:\n",
    "            url = f'{BASE_URL}{page}'\n",
    "            soup = utils.get_page_soup(url)\n",
    "            articles = soup.find_all('a', {'style': 'padding-top:10px; font-size:120%;'})\n",
    "            body = ''\n",
    "            titles = ''\n",
    "            print(page, end='\\t')\n",
    "            for article in articles:\n",
    "                article_soup = utils.get_page_soup(f'https://ratopati.com{article[\"href\"]}')\n",
    "                title = article_soup.find('h1').text\n",
    "                text = ''\n",
    "                for p in article_soup.find_all('p', {'style': 'text-align: justify;'}):\n",
    "                    text += p.text\n",
    "                body += utils.clean(text) + '<EOS>'\n",
    "                titles += title + '\\n'\n",
    "            with open(f'ratopati/news-{category}-{page}.txt', 'w') as f:\n",
    "                    f.write(body)\n",
    "            with open(f'ratopati/titles-{category}-{page}.txt', 'w') as f:\n",
    "                f.write(titles)\n",
    "        except Exception as e:\n",
    "            print(f'===ERROR: {e}===')"
   ]
  }
 ],
 "metadata": {
  "kernelspec": {
   "display_name": "Python 3",
   "language": "python",
   "name": "python3"
  },
  "language_info": {
   "codemirror_mode": {
    "name": "ipython",
    "version": 3
   },
   "file_extension": ".py",
   "mimetype": "text/x-python",
   "name": "python",
   "nbconvert_exporter": "python",
   "pygments_lexer": "ipython3",
   "version": "3.6.7"
  }
 },
 "nbformat": 4,
 "nbformat_minor": 2
}
