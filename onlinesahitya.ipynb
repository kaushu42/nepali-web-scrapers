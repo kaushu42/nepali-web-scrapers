{
 "cells": [
  {
   "cell_type": "code",
   "execution_count": null,
   "metadata": {},
   "outputs": [],
   "source": [
    "from tqdm import tqdm\n",
    "import utils"
   ]
  },
  {
   "cell_type": "code",
   "execution_count": null,
   "metadata": {},
   "outputs": [],
   "source": [
    "BASE_URL = 'http://www.onlinesahitya.com'"
   ]
  },
  {
   "cell_type": "code",
   "execution_count": null,
   "metadata": {},
   "outputs": [],
   "source": [
    "files = 1\n",
    "for page in range(0, 11):\n",
    "    try:\n",
    "        print(f'Page: {page}')\n",
    "        url = f'{BASE_URL}/Story?page={page}'\n",
    "        soup = utils.get_page_soup(url)\n",
    "        for article in tqdm(soup.find_all('li', {'class': 'node-readmore'})):\n",
    "            try:\n",
    "                article_url = f'{BASE_URL}{article.a[\"href\"]}'\n",
    "                article_soup = utils.get_page_soup(article_url)\n",
    "                text = article_soup.find_all('div', {'class': 'field-item'})[2].text\n",
    "                text = utils.clean(text, keep_numbers=True)\n",
    "                with open(f'onlinesahitya/{files}.txt', 'w') as f:\n",
    "                    for line in text.split('।'):\n",
    "                        f.write(f'{line.strip()}\\n')\n",
    "                    files += 1\n",
    "            except Exception as e:\n",
    "                print(f'==ERROR {e} ==')\n",
    "    except Exception as e:\n",
    "        print(f'==ERROR {e} ==')"
   ]
  }
 ],
 "metadata": {
  "kernelspec": {
   "display_name": "Python 3",
   "language": "python",
   "name": "python3"
  },
  "language_info": {
   "codemirror_mode": {
    "name": "ipython",
    "version": 3
   },
   "file_extension": ".py",
   "mimetype": "text/x-python",
   "name": "python",
   "nbconvert_exporter": "python",
   "pygments_lexer": "ipython3",
   "version": "3.6.7"
  }
 },
 "nbformat": 4,
 "nbformat_minor": 2
}
