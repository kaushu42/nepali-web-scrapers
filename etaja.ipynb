{
 "cells": [
  {
   "cell_type": "code",
   "execution_count": null,
   "metadata": {},
   "outputs": [],
   "source": [
    "import os\n",
    "import pickle\n",
    "import utils\n",
    "from tqdm import tqdm_notebook as tqdm"
   ]
  },
  {
   "cell_type": "code",
   "execution_count": null,
   "metadata": {},
   "outputs": [],
   "source": [
    "BASE_URL = 'http://etajakhabar.com/category/%e0%a4%b8%e0%a4%ae%e0%a4%be%e0%a4%9a%e0%a4%be%e0%a4%b0/page/'"
   ]
  },
  {
   "cell_type": "code",
   "execution_count": null,
   "metadata": {},
   "outputs": [],
   "source": [
    "for page in range(45, 5000):\n",
    "    try:\n",
    "        url = f'{BASE_URL}{page}'\n",
    "        soup = utils.get_page_soup(url)\n",
    "        div = soup.find('div', {'id': 'primary'})\n",
    "        news = div.find_all('article')\n",
    "        text = ''\n",
    "        title = ''\n",
    "        print(page)\n",
    "        for article in tqdm(news):\n",
    "            article_url = article.div.a['href']\n",
    "            article_soup = utils.get_page_soup(article_url)\n",
    "            title += article_soup.find('h1').text +'\\n'\n",
    "            body = article_soup.find('div', {'class': 'entry-content'})\n",
    "            text += utils.clean(body.text) + '<EOS>'\n",
    "        with open(f'etaja/news-{page}.txt', 'w') as f:\n",
    "            f.write(text)\n",
    "        with open(f'etaja/titles-{page}.txt', 'w') as f:\n",
    "            f.write(title)\n",
    "    except Exception as e:\n",
    "        print(f'===ERROR: {e}===')"
   ]
  }
 ],
 "metadata": {
  "kernelspec": {
   "display_name": "Python 3",
   "language": "python",
   "name": "python3"
  },
  "language_info": {
   "codemirror_mode": {
    "name": "ipython",
    "version": 3
   },
   "file_extension": ".py",
   "mimetype": "text/x-python",
   "name": "python",
   "nbconvert_exporter": "python",
   "pygments_lexer": "ipython3",
   "version": "3.6.7"
  }
 },
 "nbformat": 4,
 "nbformat_minor": 2
}
