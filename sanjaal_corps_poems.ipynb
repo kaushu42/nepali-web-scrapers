{
 "cells": [
  {
   "cell_type": "code",
   "execution_count": null,
   "metadata": {},
   "outputs": [],
   "source": [
    "import urllib as u\n",
    "from bs4 import BeautifulSoup"
   ]
  },
  {
   "cell_type": "code",
   "execution_count": null,
   "metadata": {},
   "outputs": [],
   "source": [
    "def request(url):\n",
    "    req = u.request.Request(\n",
    "        url, \n",
    "        data=None, \n",
    "        headers={\n",
    "            'User-Agent': 'Mozilla/5.0 (Macintosh; Intel Mac OS X 10_9_3) AppleWebKit/537.36 (KHTML, like Gecko) Chrome/35.0.1916.47 Safari/537.36'\n",
    "        }\n",
    "    )\n",
    "    return req\n",
    "\n",
    "def get_page_soup(url):\n",
    "    req = request(url)\n",
    "    page = u.request.urlopen(req)\n",
    "    soup = BeautifulSoup(page, 'lxml')\n",
    "    return soup"
   ]
  },
  {
   "cell_type": "code",
   "execution_count": null,
   "metadata": {},
   "outputs": [],
   "source": [
    "base_url = 'http://inepal.org/nepalipoems/category/general-nepali-poems-gajals-muktaks/page'"
   ]
  },
  {
   "cell_type": "code",
   "execution_count": null,
   "metadata": {},
   "outputs": [],
   "source": [
    "start_page = 1 # resume from last session\n",
    "end_page = 33 #33 is the last page\n",
    "for i in range(start_page, end_page + 1):\n",
    "    print(f'\\nOn page: {i}')\n",
    "    url = f'{base_url}/{i}/'\n",
    "    soup = get_page_soup(url)\n",
    "    \n",
    "    posts = soup.find_all('div', {'class':'blog-post-content'})\n",
    "    \n",
    "    links = []\n",
    "    for post in posts:\n",
    "        links.append(post.h2.a['href'])\n",
    "    count = 1\n",
    "    for link in links:    \n",
    "        poem_soup = get_page_soup(link)\n",
    "    \n",
    "        contents = poem_soup.article.find_all('p')\n",
    "        poem = ''\n",
    "        for content in contents[1:]:\n",
    "            poem += content.text.strip()\n",
    "        count += 1\n",
    "        with open('poems.txt', 'a') as f:\n",
    "                f.write(f'{poem}')"
   ]
  }
 ],
 "metadata": {
  "kernelspec": {
   "display_name": "Python 3",
   "language": "python",
   "name": "python3"
  },
  "language_info": {
   "codemirror_mode": {
    "name": "ipython",
    "version": 3
   },
   "file_extension": ".py",
   "mimetype": "text/x-python",
   "name": "python",
   "nbconvert_exporter": "python",
   "pygments_lexer": "ipython3",
   "version": "3.6.7"
  }
 },
 "nbformat": 4,
 "nbformat_minor": 2
}
