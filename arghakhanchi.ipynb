{
 "cells": [
  {
   "cell_type": "code",
   "execution_count": null,
   "metadata": {},
   "outputs": [],
   "source": [
    "import os\n",
    "import pickle\n",
    "import utils\n",
    "from tqdm import tqdm_notebook as tqdm"
   ]
  },
  {
   "cell_type": "code",
   "execution_count": null,
   "metadata": {},
   "outputs": [],
   "source": [
    "BASE_URL = 'http://www.arghakhanchi.com/index.php?action=news&catId=PT1RTg==&page='"
   ]
  },
  {
   "cell_type": "code",
   "execution_count": null,
   "metadata": {},
   "outputs": [],
   "source": [
    "page = 1\n",
    "url = f'{BASE_URL}{page}'\n",
    "print(url)"
   ]
  },
  {
   "cell_type": "code",
   "execution_count": null,
   "metadata": {},
   "outputs": [],
   "source": [
    "for page in range(56, 300):\n",
    "    try:\n",
    "        url = f'{BASE_URL}{page}'\n",
    "        soup = utils.get_page_soup(url)\n",
    "        articles = soup.find_all('a', {'style': 'color:#00619a;'})\n",
    "        text = ''\n",
    "        titles = ''\n",
    "        print('Page', page)\n",
    "        for article in tqdm(articles):\n",
    "            article_url = f\"http://www.arghakhanchi.com/{article['href']}\"\n",
    "            article_soup = utils.get_page_soup(article_url)\n",
    "            titles += utils.clean(article_soup.find('span', {'style': 'color:#000; font-weight:bold; font-size:13px; display:block; '}).text) + '\\n'\n",
    "            text += utils.clean(article_soup.find('td', {'style': 'border:1px solid #dfdfdf; background-color:#fcfcfc; text-align:justify; padding:10px;'}).text) + '<EOS>'\n",
    "        with open(f'argha/news-{page}.txt', 'w') as f:\n",
    "            f.write(text)\n",
    "        with open(f'argha/titles-{page}.txt', 'w') as f:\n",
    "            f.write(titles)\n",
    "    except Exception as e:\n",
    "        print(f'===ERROR: {e}===')"
   ]
  },
  {
   "cell_type": "code",
   "execution_count": null,
   "metadata": {},
   "outputs": [],
   "source": []
  }
 ],
 "metadata": {
  "kernelspec": {
   "display_name": "Python 3",
   "language": "python",
   "name": "python3"
  },
  "language_info": {
   "codemirror_mode": {
    "name": "ipython",
    "version": 3
   },
   "file_extension": ".py",
   "mimetype": "text/x-python",
   "name": "python",
   "nbconvert_exporter": "python",
   "pygments_lexer": "ipython3",
   "version": "3.6.7"
  }
 },
 "nbformat": 4,
 "nbformat_minor": 2
}
