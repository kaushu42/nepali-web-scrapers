{
 "cells": [
  {
   "cell_type": "code",
   "execution_count": null,
   "metadata": {},
   "outputs": [],
   "source": [
    "import os\n",
    "import pickle\n",
    "import utils\n",
    "from tqdm import tqdm"
   ]
  },
  {
   "cell_type": "code",
   "execution_count": null,
   "metadata": {},
   "outputs": [],
   "source": [
    "try:\n",
    "    os.mkdir('karobar-daily/')\n",
    "    os.mkdir('karobar-daily/news')\n",
    "    os.mkdir('karobar-daily/titles')\n",
    "except Exception as e:\n",
    "    print(e)"
   ]
  },
  {
   "cell_type": "code",
   "execution_count": null,
   "metadata": {},
   "outputs": [],
   "source": [
    "BASE_URL = 'https://www.karobardaily.com/news/'\n",
    "categories = [\n",
    "    'economy',\n",
    "    'banking',\n",
    "    'insurance',\n",
    "    'share_bazaar',\n",
    "    'corporate',\n",
    "    'country',\n",
    "    'politics',\n",
    "    'society',\n",
    "    'development',\n",
    "    'idea',\n",
    "    'interview',\n",
    "    'blog',\n",
    "]"
   ]
  },
  {
   "cell_type": "code",
   "execution_count": null,
   "metadata": {},
   "outputs": [],
   "source": [
    "for category in categories:\n",
    "    # Get the url for each category\n",
    "    url = BASE_URL + category\n",
    "    page = 1\n",
    "    print(f'####{category.upper()}####')\n",
    "    while True:\n",
    "        # Getting the HTML of the main page which contains articles\n",
    "        print('Page:', page)\n",
    "        try:\n",
    "            page_url = f'{url}?page={page}'\n",
    "            soup = utils.get_page_soup(page_url)\n",
    "            texts = []\n",
    "            titles = []\n",
    "            # Get a list of all divs that contain the article header and the url for each article\n",
    "            divs = soup.find_all('div', {'class': 'mn-header'})\n",
    "            count = 1\n",
    "            # For each article, do the following\n",
    "            for div in tqdm(divs):\n",
    "                try:\n",
    "                    # Get the text\n",
    "                    title = div.a.text\n",
    "                    # Get the url\n",
    "                    article_url = div.a['href']\n",
    "                    \n",
    "                    # Get the HTML of the article page ,which contains the actual content\n",
    "                    article_soup = utils.get_page_soup(article_url)\n",
    "                    \n",
    "                    # Get the content div\n",
    "                    text = article_soup.find('div', {'class': 'row main-data-content'})\n",
    "                    \n",
    "                    # If no such div found, go to another article\n",
    "                    if text is None:\n",
    "                        break\n",
    "                    # Extract the article text    \n",
    "                    text = text.text\n",
    "                    text = utils.clean(text)\n",
    "                    titles.append(title)\n",
    "                    texts.append(text)\n",
    "\n",
    "                except Exception as e:\n",
    "                    print(f'===ARTICLE ERROR: {page}-{count}===\\n\\t### {e} ###')\n",
    "                finally:\n",
    "                    count += 1\n",
    "            # write data to the respective files\n",
    "            title_file = open(f'karobar-daily/titles/{category}-{page}.txt', 'wb')\n",
    "            news_file = open(f'karobar-daily/news/{category}-{page}.txt', 'wb')       \n",
    "            pickle.dump(titles, title_file)\n",
    "            pickle.dump(texts, news_file)\n",
    "            title_file.close()\n",
    "            news_file.close()\n",
    "            \n",
    "        except Exception as e:\n",
    "            print(f'===PAGE ERROR: {page}===\\n\\t### {e} ###')\n",
    "        finally:\n",
    "            page += 1\n",
    "    break"
   ]
  }
 ],
 "metadata": {
  "kernelspec": {
   "display_name": "Python 3",
   "language": "python",
   "name": "python3"
  },
  "language_info": {
   "codemirror_mode": {
    "name": "ipython",
    "version": 3
   },
   "file_extension": ".py",
   "mimetype": "text/x-python",
   "name": "python",
   "nbconvert_exporter": "python",
   "pygments_lexer": "ipython3",
   "version": "3.6.7"
  }
 },
 "nbformat": 4,
 "nbformat_minor": 2
}
